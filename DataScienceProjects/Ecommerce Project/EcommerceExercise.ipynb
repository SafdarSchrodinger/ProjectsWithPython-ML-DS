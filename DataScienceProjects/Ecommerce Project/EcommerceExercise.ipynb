{
 "cells": [
  {
   "cell_type": "markdown",
   "id": "289ebc60",
   "metadata": {},
   "source": [
    "# Ecommerce Purchases Exercise"
   ]
  },
  {
   "cell_type": "code",
   "execution_count": 2,
   "id": "266b2f1d",
   "metadata": {},
   "outputs": [],
   "source": [
    "import pandas as pd"
   ]
  },
  {
   "cell_type": "code",
   "execution_count": 3,
   "id": "38e9cd9a",
   "metadata": {},
   "outputs": [],
   "source": [
    "ecom=pd.read_csv('Ecommerce Purchases')"
   ]
  },
  {
   "cell_type": "markdown",
   "id": "c748ff8a",
   "metadata": {},
   "source": [
    "Check the The head of dataframe"
   ]
  },
  {
   "cell_type": "code",
   "execution_count": 4,
   "id": "2a0b1c53",
   "metadata": {},
   "outputs": [
    {
     "data": {
      "text/html": [
       "<div>\n",
       "<style scoped>\n",
       "    .dataframe tbody tr th:only-of-type {\n",
       "        vertical-align: middle;\n",
       "    }\n",
       "\n",
       "    .dataframe tbody tr th {\n",
       "        vertical-align: top;\n",
       "    }\n",
       "\n",
       "    .dataframe thead th {\n",
       "        text-align: right;\n",
       "    }\n",
       "</style>\n",
       "<table border=\"1\" class=\"dataframe\">\n",
       "  <thead>\n",
       "    <tr style=\"text-align: right;\">\n",
       "      <th></th>\n",
       "      <th>Address</th>\n",
       "      <th>Lot</th>\n",
       "      <th>AM or PM</th>\n",
       "      <th>Browser Info</th>\n",
       "      <th>Company</th>\n",
       "      <th>Credit Card</th>\n",
       "      <th>CC Exp Date</th>\n",
       "      <th>CC Security Code</th>\n",
       "      <th>CC Provider</th>\n",
       "      <th>Email</th>\n",
       "      <th>Job</th>\n",
       "      <th>IP Address</th>\n",
       "      <th>Language</th>\n",
       "      <th>Purchase Price</th>\n",
       "    </tr>\n",
       "  </thead>\n",
       "  <tbody>\n",
       "    <tr>\n",
       "      <th>0</th>\n",
       "      <td>16629 Pace Camp Apt. 448\\nAlexisborough, NE 77...</td>\n",
       "      <td>46 in</td>\n",
       "      <td>PM</td>\n",
       "      <td>Opera/9.56.(X11; Linux x86_64; sl-SI) Presto/2...</td>\n",
       "      <td>Martinez-Herman</td>\n",
       "      <td>6011929061123406</td>\n",
       "      <td>02/20</td>\n",
       "      <td>900</td>\n",
       "      <td>JCB 16 digit</td>\n",
       "      <td>pdunlap@yahoo.com</td>\n",
       "      <td>Scientist, product/process development</td>\n",
       "      <td>149.146.147.205</td>\n",
       "      <td>el</td>\n",
       "      <td>98.14</td>\n",
       "    </tr>\n",
       "    <tr>\n",
       "      <th>1</th>\n",
       "      <td>9374 Jasmine Spurs Suite 508\\nSouth John, TN 8...</td>\n",
       "      <td>28 rn</td>\n",
       "      <td>PM</td>\n",
       "      <td>Opera/8.93.(Windows 98; Win 9x 4.90; en-US) Pr...</td>\n",
       "      <td>Fletcher, Richards and Whitaker</td>\n",
       "      <td>3337758169645356</td>\n",
       "      <td>11/18</td>\n",
       "      <td>561</td>\n",
       "      <td>Mastercard</td>\n",
       "      <td>anthony41@reed.com</td>\n",
       "      <td>Drilling engineer</td>\n",
       "      <td>15.160.41.51</td>\n",
       "      <td>fr</td>\n",
       "      <td>70.73</td>\n",
       "    </tr>\n",
       "    <tr>\n",
       "      <th>2</th>\n",
       "      <td>Unit 0065 Box 5052\\nDPO AP 27450</td>\n",
       "      <td>94 vE</td>\n",
       "      <td>PM</td>\n",
       "      <td>Mozilla/5.0 (compatible; MSIE 9.0; Windows NT ...</td>\n",
       "      <td>Simpson, Williams and Pham</td>\n",
       "      <td>675957666125</td>\n",
       "      <td>08/19</td>\n",
       "      <td>699</td>\n",
       "      <td>JCB 16 digit</td>\n",
       "      <td>amymiller@morales-harrison.com</td>\n",
       "      <td>Customer service manager</td>\n",
       "      <td>132.207.160.22</td>\n",
       "      <td>de</td>\n",
       "      <td>0.95</td>\n",
       "    </tr>\n",
       "    <tr>\n",
       "      <th>3</th>\n",
       "      <td>7780 Julia Fords\\nNew Stacy, WA 45798</td>\n",
       "      <td>36 vm</td>\n",
       "      <td>PM</td>\n",
       "      <td>Mozilla/5.0 (Macintosh; Intel Mac OS X 10_8_0 ...</td>\n",
       "      <td>Williams, Marshall and Buchanan</td>\n",
       "      <td>6011578504430710</td>\n",
       "      <td>02/24</td>\n",
       "      <td>384</td>\n",
       "      <td>Discover</td>\n",
       "      <td>brent16@olson-robinson.info</td>\n",
       "      <td>Drilling engineer</td>\n",
       "      <td>30.250.74.19</td>\n",
       "      <td>es</td>\n",
       "      <td>78.04</td>\n",
       "    </tr>\n",
       "    <tr>\n",
       "      <th>4</th>\n",
       "      <td>23012 Munoz Drive Suite 337\\nNew Cynthia, TX 5...</td>\n",
       "      <td>20 IE</td>\n",
       "      <td>AM</td>\n",
       "      <td>Opera/9.58.(X11; Linux x86_64; it-IT) Presto/2...</td>\n",
       "      <td>Brown, Watson and Andrews</td>\n",
       "      <td>6011456623207998</td>\n",
       "      <td>10/25</td>\n",
       "      <td>678</td>\n",
       "      <td>Diners Club / Carte Blanche</td>\n",
       "      <td>christopherwright@gmail.com</td>\n",
       "      <td>Fine artist</td>\n",
       "      <td>24.140.33.94</td>\n",
       "      <td>es</td>\n",
       "      <td>77.82</td>\n",
       "    </tr>\n",
       "  </tbody>\n",
       "</table>\n",
       "</div>"
      ],
      "text/plain": [
       "                                             Address    Lot AM or PM  \\\n",
       "0  16629 Pace Camp Apt. 448\\nAlexisborough, NE 77...  46 in       PM   \n",
       "1  9374 Jasmine Spurs Suite 508\\nSouth John, TN 8...  28 rn       PM   \n",
       "2                   Unit 0065 Box 5052\\nDPO AP 27450  94 vE       PM   \n",
       "3              7780 Julia Fords\\nNew Stacy, WA 45798  36 vm       PM   \n",
       "4  23012 Munoz Drive Suite 337\\nNew Cynthia, TX 5...  20 IE       AM   \n",
       "\n",
       "                                        Browser Info  \\\n",
       "0  Opera/9.56.(X11; Linux x86_64; sl-SI) Presto/2...   \n",
       "1  Opera/8.93.(Windows 98; Win 9x 4.90; en-US) Pr...   \n",
       "2  Mozilla/5.0 (compatible; MSIE 9.0; Windows NT ...   \n",
       "3  Mozilla/5.0 (Macintosh; Intel Mac OS X 10_8_0 ...   \n",
       "4  Opera/9.58.(X11; Linux x86_64; it-IT) Presto/2...   \n",
       "\n",
       "                           Company       Credit Card CC Exp Date  \\\n",
       "0                  Martinez-Herman  6011929061123406       02/20   \n",
       "1  Fletcher, Richards and Whitaker  3337758169645356       11/18   \n",
       "2       Simpson, Williams and Pham      675957666125       08/19   \n",
       "3  Williams, Marshall and Buchanan  6011578504430710       02/24   \n",
       "4        Brown, Watson and Andrews  6011456623207998       10/25   \n",
       "\n",
       "   CC Security Code                  CC Provider  \\\n",
       "0               900                 JCB 16 digit   \n",
       "1               561                   Mastercard   \n",
       "2               699                 JCB 16 digit   \n",
       "3               384                     Discover   \n",
       "4               678  Diners Club / Carte Blanche   \n",
       "\n",
       "                            Email                                     Job  \\\n",
       "0               pdunlap@yahoo.com  Scientist, product/process development   \n",
       "1              anthony41@reed.com                       Drilling engineer   \n",
       "2  amymiller@morales-harrison.com                Customer service manager   \n",
       "3     brent16@olson-robinson.info                       Drilling engineer   \n",
       "4     christopherwright@gmail.com                             Fine artist   \n",
       "\n",
       "        IP Address Language  Purchase Price  \n",
       "0  149.146.147.205       el           98.14  \n",
       "1     15.160.41.51       fr           70.73  \n",
       "2   132.207.160.22       de            0.95  \n",
       "3     30.250.74.19       es           78.04  \n",
       "4     24.140.33.94       es           77.82  "
      ]
     },
     "execution_count": 4,
     "metadata": {},
     "output_type": "execute_result"
    }
   ],
   "source": [
    "ecom.head()"
   ]
  },
  {
   "cell_type": "markdown",
   "id": "206986b8",
   "metadata": {},
   "source": [
    "How many rows and columns are there?\n",
    "we can find out not only the number of rows and columns, but also many other Info , via following command:"
   ]
  },
  {
   "cell_type": "code",
   "execution_count": 5,
   "id": "9c9a9276",
   "metadata": {},
   "outputs": [
    {
     "name": "stdout",
     "output_type": "stream",
     "text": [
      "<class 'pandas.core.frame.DataFrame'>\n",
      "RangeIndex: 10000 entries, 0 to 9999\n",
      "Data columns (total 14 columns):\n",
      " #   Column            Non-Null Count  Dtype  \n",
      "---  ------            --------------  -----  \n",
      " 0   Address           10000 non-null  object \n",
      " 1   Lot               10000 non-null  object \n",
      " 2   AM or PM          10000 non-null  object \n",
      " 3   Browser Info      10000 non-null  object \n",
      " 4   Company           10000 non-null  object \n",
      " 5   Credit Card       10000 non-null  int64  \n",
      " 6   CC Exp Date       10000 non-null  object \n",
      " 7   CC Security Code  10000 non-null  int64  \n",
      " 8   CC Provider       10000 non-null  object \n",
      " 9   Email             10000 non-null  object \n",
      " 10  Job               10000 non-null  object \n",
      " 11  IP Address        10000 non-null  object \n",
      " 12  Language          10000 non-null  object \n",
      " 13  Purchase Price    10000 non-null  float64\n",
      "dtypes: float64(1), int64(2), object(11)\n",
      "memory usage: 1.1+ MB\n"
     ]
    }
   ],
   "source": [
    "ecom.info()"
   ]
  },
  {
   "cell_type": "markdown",
   "id": "77b1d8db",
   "metadata": {},
   "source": [
    "What is the average Purchase Price?"
   ]
  },
  {
   "cell_type": "code",
   "execution_count": 7,
   "id": "2eea11c0",
   "metadata": {},
   "outputs": [
    {
     "data": {
      "text/plain": [
       "50.34730200000025"
      ]
     },
     "execution_count": 7,
     "metadata": {},
     "output_type": "execute_result"
    }
   ],
   "source": [
    "ecom['Purchase Price'].mean()"
   ]
  },
  {
   "cell_type": "code",
   "execution_count": null,
   "id": "3d545ee5",
   "metadata": {},
   "outputs": [],
   "source": []
  },
  {
   "cell_type": "markdown",
   "id": "285ee737",
   "metadata": {},
   "source": [
    "What were the highest and lowest purchase prices"
   ]
  },
  {
   "cell_type": "code",
   "execution_count": 9,
   "id": "11acfdaa",
   "metadata": {},
   "outputs": [
    {
     "data": {
      "text/plain": [
       "99.99"
      ]
     },
     "execution_count": 9,
     "metadata": {},
     "output_type": "execute_result"
    }
   ],
   "source": [
    "ecom['Purchase Price'].max()"
   ]
  },
  {
   "cell_type": "code",
   "execution_count": 11,
   "id": "f3a2ffa5",
   "metadata": {},
   "outputs": [
    {
     "data": {
      "text/plain": [
       "0.0"
      ]
     },
     "execution_count": 11,
     "metadata": {},
     "output_type": "execute_result"
    }
   ],
   "source": [
    "ecom['Purchase Price'].min()"
   ]
  },
  {
   "cell_type": "markdown",
   "id": "c776511f",
   "metadata": {},
   "source": [
    "How many people have English 'en' as their Language of choice on the website?"
   ]
  },
  {
   "cell_type": "code",
   "execution_count": 12,
   "id": "3d1f244b",
   "metadata": {},
   "outputs": [
    {
     "data": {
      "text/plain": [
       "Address             1098\n",
       "Lot                 1098\n",
       "AM or PM            1098\n",
       "Browser Info        1098\n",
       "Company             1098\n",
       "Credit Card         1098\n",
       "CC Exp Date         1098\n",
       "CC Security Code    1098\n",
       "CC Provider         1098\n",
       "Email               1098\n",
       "Job                 1098\n",
       "IP Address          1098\n",
       "Language            1098\n",
       "Purchase Price      1098\n",
       "dtype: int64"
      ]
     },
     "execution_count": 12,
     "metadata": {},
     "output_type": "execute_result"
    }
   ],
   "source": [
    "ecom[ecom['Language']=='en'].count()"
   ]
  },
  {
   "cell_type": "markdown",
   "id": "3e9d5bc0",
   "metadata": {},
   "source": [
    "How many people have the job title of \"Lawyer\" ?"
   ]
  },
  {
   "cell_type": "code",
   "execution_count": 13,
   "id": "5a8495e0",
   "metadata": {},
   "outputs": [],
   "source": [
    "import numpy as np\n",
    "nLawyerJobs=0\n",
    "rows=np.arange(0,10000)\n",
    "for i in rows:\n",
    "    SplittedJobTitle=ecom['Job'][i].lower().split()\n",
    "    if 'lawyer' in SplittedJobTitle:\n",
    "        nLawyerJobs=nLawyerJobs+1\n",
    "        "
   ]
  },
  {
   "cell_type": "markdown",
   "id": "b6a03427",
   "metadata": {},
   "source": [
    "notice: above solution is more comprehensive, even JobTitle be a combine of several word included lawyer."
   ]
  },
  {
   "cell_type": "code",
   "execution_count": 14,
   "id": "bcf56741",
   "metadata": {},
   "outputs": [
    {
     "data": {
      "text/plain": [
       "30"
      ]
     },
     "execution_count": 14,
     "metadata": {},
     "output_type": "execute_result"
    }
   ],
   "source": [
    "nLawyerJobs"
   ]
  },
  {
   "cell_type": "markdown",
   "id": "83250474",
   "metadata": {},
   "source": [
    "but here the jobs that have Lawyer Title , are single word of just Lawyer, so we can simply use oneline command:"
   ]
  },
  {
   "cell_type": "code",
   "execution_count": 15,
   "id": "9c254b95",
   "metadata": {},
   "outputs": [
    {
     "name": "stdout",
     "output_type": "stream",
     "text": [
      "<class 'pandas.core.frame.DataFrame'>\n",
      "Int64Index: 30 entries, 470 to 9979\n",
      "Data columns (total 14 columns):\n",
      " #   Column            Non-Null Count  Dtype  \n",
      "---  ------            --------------  -----  \n",
      " 0   Address           30 non-null     object \n",
      " 1   Lot               30 non-null     object \n",
      " 2   AM or PM          30 non-null     object \n",
      " 3   Browser Info      30 non-null     object \n",
      " 4   Company           30 non-null     object \n",
      " 5   Credit Card       30 non-null     int64  \n",
      " 6   CC Exp Date       30 non-null     object \n",
      " 7   CC Security Code  30 non-null     int64  \n",
      " 8   CC Provider       30 non-null     object \n",
      " 9   Email             30 non-null     object \n",
      " 10  Job               30 non-null     object \n",
      " 11  IP Address        30 non-null     object \n",
      " 12  Language          30 non-null     object \n",
      " 13  Purchase Price    30 non-null     float64\n",
      "dtypes: float64(1), int64(2), object(11)\n",
      "memory usage: 3.5+ KB\n"
     ]
    }
   ],
   "source": [
    "ecom[ecom['Job']=='Lawyer'].info()"
   ]
  },
  {
   "cell_type": "markdown",
   "id": "a62aa927",
   "metadata": {},
   "source": [
    "How many people made the purchase during the AM and how many people made the purchase during PM ?"
   ]
  },
  {
   "cell_type": "code",
   "execution_count": 16,
   "id": "19ac4867",
   "metadata": {},
   "outputs": [
    {
     "data": {
      "text/plain": [
       "PM    5068\n",
       "AM    4932\n",
       "Name: AM or PM, dtype: int64"
      ]
     },
     "execution_count": 16,
     "metadata": {},
     "output_type": "execute_result"
    }
   ],
   "source": [
    "ecom['AM or PM'].value_counts()"
   ]
  },
  {
   "cell_type": "markdown",
   "id": "ebcb4d1b",
   "metadata": {},
   "source": [
    "What are the 5 most common Job Titles?"
   ]
  },
  {
   "cell_type": "code",
   "execution_count": 17,
   "id": "40dc2e04",
   "metadata": {},
   "outputs": [
    {
     "data": {
      "text/plain": [
       "Interior and spatial designer    31\n",
       "Lawyer                           30\n",
       "Social researcher                28\n",
       "Purchasing manager               27\n",
       "Designer, jewellery              27\n",
       "Name: Job, dtype: int64"
      ]
     },
     "execution_count": 17,
     "metadata": {},
     "output_type": "execute_result"
    }
   ],
   "source": [
    "ecom['Job'].value_counts().head()"
   ]
  },
  {
   "cell_type": "markdown",
   "id": "dc90d47a",
   "metadata": {},
   "source": [
    "Someone made a purchase that came from Lot: \"90 WT\" , what was the Purchase Price for this transaction? "
   ]
  },
  {
   "cell_type": "code",
   "execution_count": 18,
   "id": "e9f914a3",
   "metadata": {},
   "outputs": [
    {
     "data": {
      "text/plain": [
       "513    75.1\n",
       "Name: Purchase Price, dtype: float64"
      ]
     },
     "execution_count": 18,
     "metadata": {},
     "output_type": "execute_result"
    }
   ],
   "source": [
    "ecom[ecom['Lot']=='90 WT']['Purchase Price']"
   ]
  },
  {
   "cell_type": "markdown",
   "id": "5bc9c19b",
   "metadata": {},
   "source": [
    "What is the email of the person with the following Credit Card Number: 4926535242672853"
   ]
  },
  {
   "cell_type": "code",
   "execution_count": 19,
   "id": "bfa5fd84",
   "metadata": {},
   "outputs": [
    {
     "data": {
      "text/plain": [
       "1234    bondellen@williams-garza.com\n",
       "Name: Email, dtype: object"
      ]
     },
     "execution_count": 19,
     "metadata": {},
     "output_type": "execute_result"
    }
   ],
   "source": [
    "ecom[ecom['Credit Card']==4926535242672853]['Email']"
   ]
  },
  {
   "cell_type": "markdown",
   "id": "a4c7656a",
   "metadata": {},
   "source": [
    "How many people have American Express as their Credit Card Provider *and made a purchase above $95 ?"
   ]
  },
  {
   "cell_type": "code",
   "execution_count": 21,
   "id": "c24aad86",
   "metadata": {},
   "outputs": [],
   "source": [
    "eAEX=ecom[ecom['CC Provider']=='American Express']"
   ]
  },
  {
   "cell_type": "code",
   "execution_count": 22,
   "id": "21b76e99",
   "metadata": {},
   "outputs": [
    {
     "data": {
      "text/plain": [
       "Address             39\n",
       "Lot                 39\n",
       "AM or PM            39\n",
       "Browser Info        39\n",
       "Company             39\n",
       "Credit Card         39\n",
       "CC Exp Date         39\n",
       "CC Security Code    39\n",
       "CC Provider         39\n",
       "Email               39\n",
       "Job                 39\n",
       "IP Address          39\n",
       "Language            39\n",
       "Purchase Price      39\n",
       "dtype: int64"
      ]
     },
     "execution_count": 22,
     "metadata": {},
     "output_type": "execute_result"
    }
   ],
   "source": [
    "eAEX[eAEX['Purchase Price']>95].count()"
   ]
  },
  {
   "cell_type": "markdown",
   "id": "c05d63bb",
   "metadata": {},
   "source": [
    "or we can say in one line by following conditional command:"
   ]
  },
  {
   "cell_type": "code",
   "execution_count": 23,
   "id": "28f0238b",
   "metadata": {},
   "outputs": [
    {
     "data": {
      "text/plain": [
       "Address             39\n",
       "Lot                 39\n",
       "AM or PM            39\n",
       "Browser Info        39\n",
       "Company             39\n",
       "Credit Card         39\n",
       "CC Exp Date         39\n",
       "CC Security Code    39\n",
       "CC Provider         39\n",
       "Email               39\n",
       "Job                 39\n",
       "IP Address          39\n",
       "Language            39\n",
       "Purchase Price      39\n",
       "dtype: int64"
      ]
     },
     "execution_count": 23,
     "metadata": {},
     "output_type": "execute_result"
    }
   ],
   "source": [
    "ecom[(ecom['CC Provider']=='American Express')&(ecom['Purchase Price']>95)].count()"
   ]
  },
  {
   "cell_type": "markdown",
   "id": "be727679",
   "metadata": {},
   "source": [
    "Hard: How many people have a credit card that expires in 2025?"
   ]
  },
  {
   "cell_type": "code",
   "execution_count": 25,
   "id": "0fa5bfe3",
   "metadata": {},
   "outputs": [],
   "source": [
    "exp25=0\n",
    "for i in np.arange(0,10000):\n",
    "    YearOfExpDate=ecom['CC Exp Date'][i].split('/')[1]\n",
    "    if YearOfExpDate=='25':\n",
    "        exp25=exp25+1"
   ]
  },
  {
   "cell_type": "code",
   "execution_count": 26,
   "id": "bf99be27",
   "metadata": {},
   "outputs": [
    {
     "data": {
      "text/plain": [
       "1033"
      ]
     },
     "execution_count": 26,
     "metadata": {},
     "output_type": "execute_result"
    }
   ],
   "source": [
    "exp25"
   ]
  },
  {
   "cell_type": "markdown",
   "id": "2d1e5f18",
   "metadata": {},
   "source": [
    "other way: we can define a function:"
   ]
  },
  {
   "cell_type": "code",
   "execution_count": 27,
   "id": "233e47a8",
   "metadata": {},
   "outputs": [],
   "source": [
    "def yearOfExpDate(ExpDate):\n",
    "    year=ExpDate.split('/')[1]\n",
    "    if year=='25':\n",
    "        return True\n",
    "    else:\n",
    "        return False"
   ]
  },
  {
   "cell_type": "markdown",
   "id": "c7ceda00",
   "metadata": {},
   "source": [
    "then use lambda expression in apply and finally sum: "
   ]
  },
  {
   "cell_type": "code",
   "execution_count": 28,
   "id": "eca3a740",
   "metadata": {},
   "outputs": [
    {
     "data": {
      "text/plain": [
       "1033"
      ]
     },
     "execution_count": 28,
     "metadata": {},
     "output_type": "execute_result"
    }
   ],
   "source": [
    "sum(ecom['CC Exp Date'].apply(lambda x: yearOfExpDate(x)))"
   ]
  },
  {
   "cell_type": "markdown",
   "id": "90d94de8",
   "metadata": {},
   "source": [
    "Hard: What are the top 5 most popular email providers/hosts (e.g. gmail.com, yahoo.com, etc...) "
   ]
  },
  {
   "cell_type": "code",
   "execution_count": 31,
   "id": "85623de8",
   "metadata": {},
   "outputs": [],
   "source": [
    "providers=[]\n",
    "for email in ecom['Email']: \n",
    "    def emailProvider(email):\n",
    "        provider=email.split('@')[1]\n",
    "        providers.append(provider)"
   ]
  },
  {
   "cell_type": "code",
   "execution_count": 32,
   "id": "9048d91d",
   "metadata": {},
   "outputs": [],
   "source": [
    "for email in ecom['Email']:\n",
    "    emailProvider(email)"
   ]
  },
  {
   "cell_type": "code",
   "execution_count": 35,
   "id": "18837fd5",
   "metadata": {},
   "outputs": [],
   "source": [
    "ecom['providers']=providers"
   ]
  },
  {
   "cell_type": "markdown",
   "id": "c67b143a",
   "metadata": {},
   "source": []
  },
  {
   "cell_type": "code",
   "execution_count": 34,
   "id": "242abb23",
   "metadata": {},
   "outputs": [
    {
     "data": {
      "text/plain": [
       "hotmail.com     1638\n",
       "yahoo.com       1616\n",
       "gmail.com       1605\n",
       "smith.com         42\n",
       "williams.com      37\n",
       "Name: providers, dtype: int64"
      ]
     },
     "execution_count": 34,
     "metadata": {},
     "output_type": "execute_result"
    }
   ],
   "source": [
    "ecom['providers'].value_counts().head()"
   ]
  },
  {
   "cell_type": "markdown",
   "id": "206fd3b8",
   "metadata": {},
   "source": [
    "A more comfotable procedure in one line:"
   ]
  },
  {
   "cell_type": "code",
   "execution_count": 158,
   "id": "859054b2",
   "metadata": {},
   "outputs": [
    {
     "data": {
      "text/plain": [
       "hotmail.com            1638\n",
       "yahoo.com              1616\n",
       "gmail.com              1605\n",
       "smith.com                42\n",
       "williams.com             37\n",
       "                       ... \n",
       "booker.com                1\n",
       "woods-allen.biz           1\n",
       "richards-wilson.com       1\n",
       "morris-thomas.com         1\n",
       "wade-garner.com           1\n",
       "Name: Email, Length: 3416, dtype: int64"
      ]
     },
     "execution_count": 158,
     "metadata": {},
     "output_type": "execute_result"
    }
   ],
   "source": [
    "ecom['Email'].apply(lambda x: x.split('@')[1]).value_counts()"
   ]
  },
  {
   "cell_type": "markdown",
   "id": "45f2e687",
   "metadata": {},
   "source": [
    "### END \n",
    "# This Note Created by SafdarMehvariHabibAbaadi\n",
    "# Any Other Questions Around This DataFrame?"
   ]
  },
  {
   "cell_type": "code",
   "execution_count": null,
   "id": "037d5316",
   "metadata": {},
   "outputs": [],
   "source": []
  },
  {
   "cell_type": "code",
   "execution_count": null,
   "id": "5aad97d3",
   "metadata": {},
   "outputs": [],
   "source": []
  },
  {
   "cell_type": "code",
   "execution_count": null,
   "id": "9f424db7",
   "metadata": {},
   "outputs": [],
   "source": []
  }
 ],
 "metadata": {
  "kernelspec": {
   "display_name": "Python 3 (ipykernel)",
   "language": "python",
   "name": "python3"
  },
  "language_info": {
   "codemirror_mode": {
    "name": "ipython",
    "version": 3
   },
   "file_extension": ".py",
   "mimetype": "text/x-python",
   "name": "python",
   "nbconvert_exporter": "python",
   "pygments_lexer": "ipython3",
   "version": "3.9.12"
  }
 },
 "nbformat": 4,
 "nbformat_minor": 5
}
