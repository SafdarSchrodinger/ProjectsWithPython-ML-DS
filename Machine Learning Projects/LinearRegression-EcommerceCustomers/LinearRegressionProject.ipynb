{
 "cells": [
  {
   "cell_type": "markdown",
   "id": "9c0e6944",
   "metadata": {},
   "source": [
    "# =============Linear Regression Project===============\n",
    "Congratulations! You just got some contract work with an Ecommerce company based in New York City\n",
    "that sells clothing online but they also have in-store style and clothing advice sessions. \n",
    "Customers come in to the store, have sessions/meetings with a personal stylist, \n",
    "then they can go home and order either on a mobile app or website for the clothes they want.\n",
    "The company is trying to decide whether to focus their efforts on their mobile app experience or their website.\n",
    "They've hired you on contract to help them figure it out! Let's get started!\n",
    "Just follow the steps below to analyze the customer data (it's fake)\n"
   ]
  },
  {
   "cell_type": "code",
   "execution_count": 2,
   "id": "9224af62",
   "metadata": {},
   "outputs": [],
   "source": [
    "import numpy as np\n",
    "import pandas as pd"
   ]
  },
  {
   "cell_type": "code",
   "execution_count": 3,
   "id": "3b46658c",
   "metadata": {},
   "outputs": [],
   "source": [
    "import matplotlib.pyplot as plt\n",
    "import seaborn as sns"
   ]
  },
  {
   "cell_type": "code",
   "execution_count": 4,
   "id": "bf13d44a",
   "metadata": {},
   "outputs": [],
   "source": [
    "%matplotlib inline"
   ]
  },
  {
   "cell_type": "markdown",
   "id": "55b27d7a",
   "metadata": {},
   "source": [
    "# -----Get the Data-----\n",
    "We'll work with the Ecommerce Customers csv file from the company. \n",
    "It has Customer info, suchas Email, Address, and their color Avatar. Then it also has numerical value columns:\n",
    "-Avg. Session Length: Average session of in-store style advice sessions\n",
    "-Time on App: Average time spent on App in minutes\n",
    "-Time on Website: Average time spent on Website in minutes\n",
    "-Length of Membership: How many years the customer has been a member.\n",
    "### Read in the Ecommerce Customers csv file as a DataFrame called customers.\n",
    "df=pd.read_csv('Ecommerce Customers')"
   ]
  },
  {
   "cell_type": "markdown",
   "id": "3c524433",
   "metadata": {},
   "source": [
    "#Check the head of customers, and check out its info() and describe() methods\n"
   ]
  },
  {
   "cell_type": "code",
   "execution_count": 3,
   "id": "7e97e030",
   "metadata": {},
   "outputs": [],
   "source": [
    "df=pd.read_csv('Ecommerce Customers')"
   ]
  },
  {
   "cell_type": "code",
   "execution_count": 8,
   "id": "f673b140",
   "metadata": {},
   "outputs": [
    {
     "name": "stdout",
     "output_type": "stream",
     "text": [
      "<class 'pandas.core.frame.DataFrame'>\n",
      "RangeIndex: 500 entries, 0 to 499\n",
      "Data columns (total 8 columns):\n",
      " #   Column                Non-Null Count  Dtype  \n",
      "---  ------                --------------  -----  \n",
      " 0   Email                 500 non-null    object \n",
      " 1   Address               500 non-null    object \n",
      " 2   Avatar                500 non-null    object \n",
      " 3   Avg. Session Length   500 non-null    float64\n",
      " 4   Time on App           500 non-null    float64\n",
      " 5   Time on Website       500 non-null    float64\n",
      " 6   Length of Membership  500 non-null    float64\n",
      " 7   Yearly Amount Spent   500 non-null    float64\n",
      "dtypes: float64(5), object(3)\n",
      "memory usage: 31.4+ KB\n"
     ]
    }
   ],
   "source": [
    "df.info()"
   ]
  },
  {
   "cell_type": "code",
   "execution_count": 4,
   "id": "0f297d2b",
   "metadata": {},
   "outputs": [
    {
     "data": {
      "text/html": [
       "<div>\n",
       "<style scoped>\n",
       "    .dataframe tbody tr th:only-of-type {\n",
       "        vertical-align: middle;\n",
       "    }\n",
       "\n",
       "    .dataframe tbody tr th {\n",
       "        vertical-align: top;\n",
       "    }\n",
       "\n",
       "    .dataframe thead th {\n",
       "        text-align: right;\n",
       "    }\n",
       "</style>\n",
       "<table border=\"1\" class=\"dataframe\">\n",
       "  <thead>\n",
       "    <tr style=\"text-align: right;\">\n",
       "      <th></th>\n",
       "      <th>Avg. Session Length</th>\n",
       "      <th>Time on App</th>\n",
       "      <th>Time on Website</th>\n",
       "      <th>Length of Membership</th>\n",
       "      <th>Yearly Amount Spent</th>\n",
       "    </tr>\n",
       "  </thead>\n",
       "  <tbody>\n",
       "    <tr>\n",
       "      <th>count</th>\n",
       "      <td>500.000000</td>\n",
       "      <td>500.000000</td>\n",
       "      <td>500.000000</td>\n",
       "      <td>500.000000</td>\n",
       "      <td>500.000000</td>\n",
       "    </tr>\n",
       "    <tr>\n",
       "      <th>mean</th>\n",
       "      <td>33.053194</td>\n",
       "      <td>12.052488</td>\n",
       "      <td>37.060445</td>\n",
       "      <td>3.533462</td>\n",
       "      <td>499.314038</td>\n",
       "    </tr>\n",
       "    <tr>\n",
       "      <th>std</th>\n",
       "      <td>0.992563</td>\n",
       "      <td>0.994216</td>\n",
       "      <td>1.010489</td>\n",
       "      <td>0.999278</td>\n",
       "      <td>79.314782</td>\n",
       "    </tr>\n",
       "    <tr>\n",
       "      <th>min</th>\n",
       "      <td>29.532429</td>\n",
       "      <td>8.508152</td>\n",
       "      <td>33.913847</td>\n",
       "      <td>0.269901</td>\n",
       "      <td>256.670582</td>\n",
       "    </tr>\n",
       "    <tr>\n",
       "      <th>25%</th>\n",
       "      <td>32.341822</td>\n",
       "      <td>11.388153</td>\n",
       "      <td>36.349257</td>\n",
       "      <td>2.930450</td>\n",
       "      <td>445.038277</td>\n",
       "    </tr>\n",
       "    <tr>\n",
       "      <th>50%</th>\n",
       "      <td>33.082008</td>\n",
       "      <td>11.983231</td>\n",
       "      <td>37.069367</td>\n",
       "      <td>3.533975</td>\n",
       "      <td>498.887875</td>\n",
       "    </tr>\n",
       "    <tr>\n",
       "      <th>75%</th>\n",
       "      <td>33.711985</td>\n",
       "      <td>12.753850</td>\n",
       "      <td>37.716432</td>\n",
       "      <td>4.126502</td>\n",
       "      <td>549.313828</td>\n",
       "    </tr>\n",
       "    <tr>\n",
       "      <th>max</th>\n",
       "      <td>36.139662</td>\n",
       "      <td>15.126994</td>\n",
       "      <td>40.005182</td>\n",
       "      <td>6.922689</td>\n",
       "      <td>765.518462</td>\n",
       "    </tr>\n",
       "  </tbody>\n",
       "</table>\n",
       "</div>"
      ],
      "text/plain": [
       "       Avg. Session Length  Time on App  Time on Website  \\\n",
       "count           500.000000   500.000000       500.000000   \n",
       "mean             33.053194    12.052488        37.060445   \n",
       "std               0.992563     0.994216         1.010489   \n",
       "min              29.532429     8.508152        33.913847   \n",
       "25%              32.341822    11.388153        36.349257   \n",
       "50%              33.082008    11.983231        37.069367   \n",
       "75%              33.711985    12.753850        37.716432   \n",
       "max              36.139662    15.126994        40.005182   \n",
       "\n",
       "       Length of Membership  Yearly Amount Spent  \n",
       "count            500.000000           500.000000  \n",
       "mean               3.533462           499.314038  \n",
       "std                0.999278            79.314782  \n",
       "min                0.269901           256.670582  \n",
       "25%                2.930450           445.038277  \n",
       "50%                3.533975           498.887875  \n",
       "75%                4.126502           549.313828  \n",
       "max                6.922689           765.518462  "
      ]
     },
     "execution_count": 4,
     "metadata": {},
     "output_type": "execute_result"
    }
   ],
   "source": [
    "df.describe()"
   ]
  },
  {
   "cell_type": "markdown",
   "id": "4fbe5337",
   "metadata": {},
   "source": [
    "For the rest of the exercise we'll only be using the numerical data of the csv file.\n",
    "Use seaborn to create a jointplot to compare the Time on Website and Yearly Amount Spent columns.\n",
    "Does the correlation make sense?"
   ]
  },
  {
   "cell_type": "code",
   "execution_count": 5,
   "id": "3aebe289",
   "metadata": {},
   "outputs": [
    {
     "ename": "NameError",
     "evalue": "name 'sns' is not defined",
     "output_type": "error",
     "traceback": [
      "\u001b[1;31m---------------------------------------------------------------------------\u001b[0m",
      "\u001b[1;31mNameError\u001b[0m                                 Traceback (most recent call last)",
      "Input \u001b[1;32mIn [5]\u001b[0m, in \u001b[0;36m<cell line: 1>\u001b[1;34m()\u001b[0m\n\u001b[1;32m----> 1\u001b[0m \u001b[43msns\u001b[49m\u001b[38;5;241m.\u001b[39mjointplot(data\u001b[38;5;241m=\u001b[39mdf,x\u001b[38;5;241m=\u001b[39m\u001b[38;5;124m'\u001b[39m\u001b[38;5;124mTime on Website\u001b[39m\u001b[38;5;124m'\u001b[39m,y\u001b[38;5;241m=\u001b[39m\u001b[38;5;124m'\u001b[39m\u001b[38;5;124mYearly Amount Spent\u001b[39m\u001b[38;5;124m'\u001b[39m)\n",
      "\u001b[1;31mNameError\u001b[0m: name 'sns' is not defined"
     ]
    }
   ],
   "source": [
    "sns.jointplot(data=df,x='Time on Website',y='Yearly Amount Spent')"
   ]
  },
  {
   "cell_type": "markdown",
   "id": "464944ae",
   "metadata": {},
   "source": [
    "Do the same but with the Time on App column instead. "
   ]
  },
  {
   "cell_type": "code",
   "execution_count": 13,
   "id": "79594dd4",
   "metadata": {},
   "outputs": [
    {
     "data": {
      "text/plain": [
       "<seaborn.axisgrid.JointGrid at 0x1b5aad63130>"
      ]
     },
     "execution_count": 13,
     "metadata": {},
     "output_type": "execute_result"
    },
    {
     "data": {
      "image/png": "[encoded data removed]",
      "text/plain": [
       "<Figure size 432x432 with 3 Axes>"
      ]
     },
     "metadata": {
      "needs_background": "light"
     },
     "output_type": "display_data"
    }
   ],
   "source": [
    "sns.jointplot(data=df,x='Time on App',y='Yearly Amount Spent')"
   ]
  },
  {
   "cell_type": "markdown",
   "id": "d36c660f",
   "metadata": {},
   "source": [
    "Use jointplot to create a 2D hex bin plot comparing Time on App and Length of Membership."
   ]
  },
  {
   "cell_type": "code",
   "execution_count": null,
   "id": "6868c036",
   "metadata": {},
   "outputs": [],
   "source": [
    "sns.jointplot(data=df,x='Time on App',y='Length of Membership',kind='hex')"
   ]
  },
  {
   "cell_type": "markdown",
   "id": "70d74d54",
   "metadata": {},
   "source": [
    "Let's explore these types of relationships across the entire data set. \n",
    "Use pairplot to recreate the plot below.(Don't worry about the the colors)"
   ]
  },
  {
   "cell_type": "code",
   "execution_count": 7,
   "id": "2a779a57",
   "metadata": {},
   "outputs": [
    {
     "ename": "NameError",
     "evalue": "name 'sns' is not defined",
     "output_type": "error",
     "traceback": [
      "\u001b[1;31m---------------------------------------------------------------------------\u001b[0m",
      "\u001b[1;31mNameError\u001b[0m                                 Traceback (most recent call last)",
      "Input \u001b[1;32mIn [7]\u001b[0m, in \u001b[0;36m<cell line: 1>\u001b[1;34m()\u001b[0m\n\u001b[1;32m----> 1\u001b[0m \u001b[43msns\u001b[49m\u001b[38;5;241m.\u001b[39mpairplot(df)\n",
      "\u001b[1;31mNameError\u001b[0m: name 'sns' is not defined"
     ]
    }
   ],
   "source": [
    "sns.pairplot(df)"
   ]
  },
  {
   "cell_type": "markdown",
   "id": "c677dd0b",
   "metadata": {},
   "source": [
    "Based off this plot Length of Membership looks to be the most correlated feature with Yearly Amount Spent."
   ]
  },
  {
   "cell_type": "markdown",
   "id": "1fb3189b",
   "metadata": {},
   "source": [
    "Create a linear model plot (using seaborn's lmplot) of Yearly Amount Spent vs. Length of Membership"
   ]
  },
  {
   "cell_type": "code",
   "execution_count": null,
   "id": "b1786a01",
   "metadata": {},
   "outputs": [],
   "source": [
    "sns.lmplot(data=df,x='Yearly Amount Spent',y='Length of Membership')"
   ]
  },
  {
   "cell_type": "markdown",
   "id": "5a7e0b7b",
   "metadata": {},
   "source": [
    "# -----------Training and Testing Data------------\n",
    "Now that we've explored the data a bit, let's go ahead and split the data into training and testing sets.\n",
    "Set a variable X equal to the numerical features of the customers and a variable y equal to the \"Yearly Amount Spent\" column."
   ]
  },
  {
   "cell_type": "code",
   "execution_count": 22,
   "id": "f1525d6e",
   "metadata": {},
   "outputs": [
    {
     "data": {
      "text/plain": [
       "Index(['Email', 'Address', 'Avatar', 'Avg. Session Length', 'Time on App',\n",
       "       'Time on Website', 'Length of Membership', 'Yearly Amount Spent'],\n",
       "      dtype='object')"
      ]
     },
     "execution_count": 22,
     "metadata": {},
     "output_type": "execute_result"
    }
   ],
   "source": [
    "df.columns"
   ]
  },
  {
   "cell_type": "code",
   "execution_count": 23,
   "id": "5a831de7",
   "metadata": {},
   "outputs": [],
   "source": [
    "X=df[['Avg. Session Length', 'Time on App',\n",
    "       'Time on Website', 'Length of Membership']]"
   ]
  },
  {
   "cell_type": "code",
   "execution_count": 24,
   "id": "7effbe01",
   "metadata": {},
   "outputs": [],
   "source": [
    "Y=df['Yearly Amount Spent']"
   ]
  },
  {
   "cell_type": "markdown",
   "id": "fcf9e01d",
   "metadata": {},
   "source": [
    "Use model_selection.train_test_split from sklearn to split the data into training and testing sets.\n",
    "Set test_size=0.3 and random_state=101"
   ]
  },
  {
   "cell_type": "code",
   "execution_count": null,
   "id": "3c7b3f2e",
   "metadata": {},
   "outputs": [],
   "source": [
    "from sklearn.model_selection import train_test_split\n",
    "X_train,X_test,Y_train,Y_test=train_test_split(X,Y,test_size=0.3,random_state=101)"
   ]
  },
  {
   "cell_type": "markdown",
   "id": "1d805691",
   "metadata": {},
   "source": [
    "# --------Training the Model--------------\n",
    "Now its time to train our model on our training data!"
   ]
  },
  {
   "cell_type": "code",
   "execution_count": 12,
   "id": "63ef634d",
   "metadata": {},
   "outputs": [],
   "source": [
    "from sklearn.linear_model import LinearRegression "
   ]
  },
  {
   "cell_type": "markdown",
   "id": "15327c0b",
   "metadata": {},
   "source": [
    "Create an instance of a LinearRegression() model named lm."
   ]
  },
  {
   "cell_type": "code",
   "execution_count": 13,
   "id": "345cfbc1",
   "metadata": {},
   "outputs": [],
   "source": [
    "lm=LinearRegression()"
   ]
  },
  {
   "cell_type": "markdown",
   "id": "7cb18742",
   "metadata": {},
   "source": [
    "Train/fit lm on the training data."
   ]
  },
  {
   "cell_type": "code",
   "execution_count": 14,
   "id": "76b7bde5",
   "metadata": {},
   "outputs": [
    {
     "ename": "NameError",
     "evalue": "name 'X_train' is not defined",
     "output_type": "error",
     "traceback": [
      "\u001b[1;31m---------------------------------------------------------------------------\u001b[0m",
      "\u001b[1;31mNameError\u001b[0m                                 Traceback (most recent call last)",
      "Input \u001b[1;32mIn [14]\u001b[0m, in \u001b[0;36m<cell line: 1>\u001b[1;34m()\u001b[0m\n\u001b[1;32m----> 1\u001b[0m lm\u001b[38;5;241m.\u001b[39mfit(\u001b[43mX_train\u001b[49m,Y_train)\n",
      "\u001b[1;31mNameError\u001b[0m: name 'X_train' is not defined"
     ]
    }
   ],
   "source": [
    "lm.fit(X_train,Y_train)"
   ]
  },
  {
   "cell_type": "markdown",
   "id": "dd021a67",
   "metadata": {},
   "source": [
    " Print out the coefficients of the model"
   ]
  },
  {
   "cell_type": "code",
   "execution_count": 35,
   "id": "d8dc4b8d",
   "metadata": {},
   "outputs": [
    {
     "data": {
      "text/plain": [
       "array([25.98154972, 38.59015875,  0.19040528, 61.27909654])"
      ]
     },
     "execution_count": 35,
     "metadata": {},
     "output_type": "execute_result"
    }
   ],
   "source": [
    "lm.coef_"
   ]
  },
  {
   "cell_type": "code",
   "execution_count": 15,
   "id": "5a7196e9",
   "metadata": {},
   "outputs": [
    {
     "ename": "AttributeError",
     "evalue": "'LinearRegression' object has no attribute 'intercept_'",
     "output_type": "error",
     "traceback": [
      "\u001b[1;31m---------------------------------------------------------------------------\u001b[0m",
      "\u001b[1;31mAttributeError\u001b[0m                            Traceback (most recent call last)",
      "Input \u001b[1;32mIn [15]\u001b[0m, in \u001b[0;36m<cell line: 1>\u001b[1;34m()\u001b[0m\n\u001b[1;32m----> 1\u001b[0m \u001b[43mlm\u001b[49m\u001b[38;5;241;43m.\u001b[39;49m\u001b[43mintercept_\u001b[49m\n",
      "\u001b[1;31mAttributeError\u001b[0m: 'LinearRegression' object has no attribute 'intercept_'"
     ]
    }
   ],
   "source": [
    "lm.intercept_"
   ]
  },
  {
   "cell_type": "markdown",
   "id": "5bae70bf",
   "metadata": {},
   "source": [
    "# ----------Predicting Test Data----------------\n",
    "Now that we have fit our model, let's evaluate its performance by predicting off the test values!\n",
    "Use lm.predict() to predict off the X_test set of the data"
   ]
  },
  {
   "cell_type": "code",
   "execution_count": 16,
   "id": "7a251cc3",
   "metadata": {},
   "outputs": [
    {
     "ename": "NameError",
     "evalue": "name 'X_test' is not defined",
     "output_type": "error",
     "traceback": [
      "\u001b[1;31m---------------------------------------------------------------------------\u001b[0m",
      "\u001b[1;31mNameError\u001b[0m                                 Traceback (most recent call last)",
      "Input \u001b[1;32mIn [16]\u001b[0m, in \u001b[0;36m<cell line: 1>\u001b[1;34m()\u001b[0m\n\u001b[1;32m----> 1\u001b[0m predictions\u001b[38;5;241m=\u001b[39mlm\u001b[38;5;241m.\u001b[39mpredict(\u001b[43mX_test\u001b[49m)\n",
      "\u001b[1;31mNameError\u001b[0m: name 'X_test' is not defined"
     ]
    }
   ],
   "source": [
    "predictions=lm.predict(X_test)"
   ]
  },
  {
   "cell_type": "markdown",
   "id": "4da38a1a",
   "metadata": {},
   "source": [
    "Create a scatterplot of the real test values versus the predicted values. "
   ]
  },
  {
   "cell_type": "code",
   "execution_count": 43,
   "id": "86f2ee3d",
   "metadata": {},
   "outputs": [
    {
     "data": {
      "text/plain": [
       "Text(0, 0.5, 'Y Predictions')"
      ]
     },
     "execution_count": 43,
     "metadata": {},
     "output_type": "execute_result"
    },
    {
     "data": {
      "image/png": "[encoded data removed]",
      "text/plain": [
       "<Figure size 432x288 with 1 Axes>"
      ]
     },
     "metadata": {
      "needs_background": "light"
     },
     "output_type": "display_data"
    }
   ],
   "source": [
    "plt.scatter(predictions,Y_test)\n",
    "plt.xlabel('Y_test')\n",
    "plt.ylabel('Y Predictions')"
   ]
  },
  {
   "cell_type": "markdown",
   "id": "540b53f4",
   "metadata": {},
   "source": [
    "## -----------Evaluating the Model------------\n",
    "Let's evaluate our model performance by calculating the residual sum of squares and the variance score (R^2).\n",
    " Calculate the Mean Absolute Error, Mean Squared Error, and the Root Mean Squared Error.\n",
    "Refer to the Wikipedia for the formulas**"
   ]
  },
  {
   "cell_type": "code",
   "execution_count": 46,
   "id": "d76b05e6",
   "metadata": {},
   "outputs": [],
   "source": [
    "#first Import metrics from sklearn\n",
    "from sklearn import metrics"
   ]
  },
  {
   "cell_type": "code",
   "execution_count": 48,
   "id": "a3deed0e",
   "metadata": {},
   "outputs": [],
   "source": [
    "MAE=metrics.mean_absolute_error(Y_test,predictions)"
   ]
  },
  {
   "cell_type": "code",
   "execution_count": 50,
   "id": "bfcbff3d",
   "metadata": {},
   "outputs": [],
   "source": [
    "MSE=metrics.mean_squared_error(Y_test,predictions)"
   ]
  },
  {
   "cell_type": "code",
   "execution_count": 52,
   "id": "00e6dd86",
   "metadata": {},
   "outputs": [],
   "source": [
    "RMSE=np.sqrt(MSE)"
   ]
  },
  {
   "cell_type": "code",
   "execution_count": 17,
   "id": "fb8a28b8",
   "metadata": {},
   "outputs": [
    {
     "ename": "NameError",
     "evalue": "name 'RMSE' is not defined",
     "output_type": "error",
     "traceback": [
      "\u001b[1;31m---------------------------------------------------------------------------\u001b[0m",
      "\u001b[1;31mNameError\u001b[0m                                 Traceback (most recent call last)",
      "Input \u001b[1;32mIn [17]\u001b[0m, in \u001b[0;36m<cell line: 1>\u001b[1;34m()\u001b[0m\n\u001b[1;32m----> 1\u001b[0m \u001b[43mRMSE\u001b[49m\n",
      "\u001b[1;31mNameError\u001b[0m: name 'RMSE' is not defined"
     ]
    }
   ],
   "source": [
    "RMSE"
   ]
  },
  {
   "cell_type": "markdown",
   "id": "c0044d7b",
   "metadata": {},
   "source": [
    "# ----------Residuals---------\n",
    " You should have gotten a very good model with a good fit. \n",
    "Let's quickly explore the residuals to make sure everything was okay with our data.\n",
    "Plot a histogram of the residuals and make sure it looks normally distributed. \n",
    "Use either seaborn distplot, or just plt.hist()."
   ]
  },
  {
   "cell_type": "code",
   "execution_count": 70,
   "id": "d54c7fbf",
   "metadata": {},
   "outputs": [
    {
     "data": {
      "text/plain": [
       "<AxesSubplot:xlabel='Yearly Amount Spent', ylabel='Count'>"
      ]
     },
     "execution_count": 70,
     "metadata": {},
     "output_type": "execute_result"
    },
    {
     "data": {
      "image/png": "[encoded data removed]",
      "text/plain": [
       "<Figure size 432x288 with 1 Axes>"
      ]
     },
     "metadata": {
      "needs_background": "light"
     },
     "output_type": "display_data"
    }
   ],
   "source": [
    "sns.histplot(Y_test-predictions,bins=50)"
   ]
  },
  {
   "cell_type": "markdown",
   "id": "6904c394",
   "metadata": {},
   "source": [
    "# ---------Conclusion----------\n",
    "We still want to figure out the answer to the original question, do we focus our efforst on mobile app or website development?\n",
    " Or maybe that doesn't even really matter, and Membership Time is what is really important.\n",
    " Let's see if we can interpret the coefficients at all to get an idea."
   ]
  },
  {
   "cell_type": "markdown",
   "id": "5aba5861",
   "metadata": {},
   "source": [
    "# creat coefficients table"
   ]
  },
  {
   "cell_type": "code",
   "execution_count": 76,
   "id": "12405400",
   "metadata": {},
   "outputs": [],
   "source": [
    "coefficients=pd.DataFrame(lm.coef_,X.columns,columns=['coeffs'])"
   ]
  },
  {
   "cell_type": "code",
   "execution_count": 77,
   "id": "e2668c94",
   "metadata": {},
   "outputs": [
    {
     "data": {
      "text/html": [
       "<div>\n",
       "<style scoped>\n",
       "    .dataframe tbody tr th:only-of-type {\n",
       "        vertical-align: middle;\n",
       "    }\n",
       "\n",
       "    .dataframe tbody tr th {\n",
       "        vertical-align: top;\n",
       "    }\n",
       "\n",
       "    .dataframe thead th {\n",
       "        text-align: right;\n",
       "    }\n",
       "</style>\n",
       "<table border=\"1\" class=\"dataframe\">\n",
       "  <thead>\n",
       "    <tr style=\"text-align: right;\">\n",
       "      <th></th>\n",
       "      <th>coeffs</th>\n",
       "    </tr>\n",
       "  </thead>\n",
       "  <tbody>\n",
       "    <tr>\n",
       "      <th>Avg. Session Length</th>\n",
       "      <td>25.981550</td>\n",
       "    </tr>\n",
       "    <tr>\n",
       "      <th>Time on App</th>\n",
       "      <td>38.590159</td>\n",
       "    </tr>\n",
       "    <tr>\n",
       "      <th>Time on Website</th>\n",
       "      <td>0.190405</td>\n",
       "    </tr>\n",
       "    <tr>\n",
       "      <th>Length of Membership</th>\n",
       "      <td>61.279097</td>\n",
       "    </tr>\n",
       "  </tbody>\n",
       "</table>\n",
       "</div>"
      ],
      "text/plain": [
       "                         coeffs\n",
       "Avg. Session Length   25.981550\n",
       "Time on App           38.590159\n",
       "Time on Website        0.190405\n",
       "Length of Membership  61.279097"
      ]
     },
     "execution_count": 77,
     "metadata": {},
     "output_type": "execute_result"
    }
   ],
   "source": [
    "coefficients"
   ]
  },
  {
   "cell_type": "markdown",
   "id": "b60428c8",
   "metadata": {},
   "source": [
    "We can interpret these Coefficients as follows , if we have fixed all coefs except one like 'Time on App',\n",
    "then for each unit increase in this one , target will increase as its coeff , in this example, 38.59"
   ]
  },
  {
   "cell_type": "markdown",
   "id": "dcfccba1",
   "metadata": {},
   "source": [
    "Since Coefficient of 'Time on App' is larger than Website, it's better the company focus on App."
   ]
  },
  {
   "cell_type": "markdown",
   "id": "4f10b32b",
   "metadata": {},
   "source": [
    "Hopefully this hands-on project  be usefull to you. any question you have I would be happy answer . \n",
    "thankyou , SafdarMehvari"
   ]
  },
  {
   "cell_type": "code",
   "execution_count": null,
   "id": "0b3af668",
   "metadata": {},
   "outputs": [],
   "source": []
  }
 ],
 "metadata": {
  "kernelspec": {
   "display_name": "Python 3 (ipykernel)",
   "language": "python",
   "name": "python3"
  },
  "language_info": {
   "codemirror_mode": {
    "name": "ipython",
    "version": 3
   },
   "file_extension": ".py",
   "mimetype": "text/x-python",
   "name": "python",
   "nbconvert_exporter": "python",
   "pygments_lexer": "ipython3",
   "version": "3.9.12"
  }
 },
 "nbformat": 4,
 "nbformat_minor": 5
}
